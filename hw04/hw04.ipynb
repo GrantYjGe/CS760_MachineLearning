{
 "cells": [
  {
   "cell_type": "markdown",
   "metadata": {},
   "source": [
    "## HW04_YUANJUN GE"
   ]
  },
  {
   "cell_type": "code",
   "execution_count": 1,
   "metadata": {},
   "outputs": [],
   "source": [
    "import numpy as np\n",
    "import random\n",
    "import glob\n",
    "import os\n",
    "\n",
    "\n",
    "def read_file(file_path):\n",
    "    with open(file_path,'r') as f:\n",
    "        text = f.read()\n",
    "    return text\n",
    "\n",
    "# load trainning data\n",
    "languages = ['e', 'j', 's']\n",
    "trainSet = {'e':{}, 'j':{}, 's':{}}\n",
    "trianSet_count = {'e':{}, 'j':{}, 's':{}}\n",
    "for language in languages:\n",
    "    record_27 = {chr(97 + i): 0 for i in range(26)}\n",
    "    record_27[' '] =0\n",
    "    count = 0\n",
    "    for file in glob.glob(f\"./languageID/{language}[0-9].txt\"):\n",
    "        count +=1\n",
    "        #print(file)\n",
    "        text = read_file(file)\n",
    "        for char in text:\n",
    "            if char == '\\n':\n",
    "                continue\n",
    "            else:\n",
    "                    record_27[char] += 1\n",
    "    trainSet[language] = dict(sorted(record_27.items(), key=lambda item: (item[0] == ' ', item[0])))\n",
    "    trianSet_count[language] = count\n"
   ]
  },
  {
   "cell_type": "markdown",
   "metadata": {},
   "source": [
    "Q3.1"
   ]
  },
  {
   "cell_type": "code",
   "execution_count": 2,
   "metadata": {},
   "outputs": [
    {
     "name": "stdout",
     "output_type": "stream",
     "text": [
      "Prior probability of p(y=e):  0.3333333333333333\n",
      "Prior probability of p(y=s):  0.3333333333333333\n",
      "Prior probability of p(y=j):  0.3333333333333333\n"
     ]
    }
   ],
   "source": [
    "def prior_fuc(x,N, alpha, KL):\n",
    "    return (x+alpha) / (N + alpha*KL)\n",
    "\n",
    "N = trianSet_count['e'] + trianSet_count['s'] + trianSet_count['j']\n",
    "print(\"Prior probability of p(y=e): \", prior_fuc(trianSet_count['e'],N, 0.5,3))\n",
    "print(\"Prior probability of p(y=s): \", prior_fuc(trianSet_count['s'],N, 0.5,3))\n",
    "print(\"Prior probability of p(y=j): \", prior_fuc(trianSet_count['j'],N, 0.5,3))"
   ]
  },
  {
   "cell_type": "markdown",
   "metadata": {},
   "source": [
    "Q3.2"
   ]
  },
  {
   "cell_type": "code",
   "execution_count": 3,
   "metadata": {},
   "outputs": [
    {
     "data": {
      "text/plain": [
       "[0.0601685114819098,\n",
       " 0.011134974392863043,\n",
       " 0.021509995043779945,\n",
       " 0.021972575582355856,\n",
       " 0.1053692383941847,\n",
       " 0.018932760614571286,\n",
       " 0.017478936064761277,\n",
       " 0.047216256401784236,\n",
       " 0.055410540227986124,\n",
       " 0.001420783082768875,\n",
       " 0.0037336857756484387,\n",
       " 0.028977366595076822,\n",
       " 0.020518751032545846,\n",
       " 0.057921691723112505,\n",
       " 0.06446390219725756,\n",
       " 0.01675202378985627,\n",
       " 0.0005617049396993227,\n",
       " 0.053824549810011564,\n",
       " 0.06618205848339666,\n",
       " 0.08012555757475633,\n",
       " 0.026664463902197257,\n",
       " 0.009284652238559392,\n",
       " 0.015496448042293078,\n",
       " 0.001156451346439782,\n",
       " 0.013844374690236246,\n",
       " 0.0006277878737815959,\n",
       " 0.1792499586981662]"
      ]
     },
     "execution_count": 3,
     "metadata": {},
     "output_type": "execute_result"
    }
   ],
   "source": [
    "\n",
    "def conditionalprobability(data, KL,alpha):\n",
    "    l = []\n",
    "    N = 0\n",
    "    for count in data.values():\n",
    "        N +=count\n",
    "    for count in data.values():\n",
    "        l.append((count+alpha)/(N + KL*alpha))\n",
    "    return l\n",
    "\n",
    "e_conProb = conditionalprobability(trainSet['e'],27,0.5)\n",
    "e_conProb"
   ]
  },
  {
   "cell_type": "markdown",
   "metadata": {},
   "source": [
    "Q3.3"
   ]
  },
  {
   "cell_type": "code",
   "execution_count": 4,
   "metadata": {},
   "outputs": [
    {
     "data": {
      "text/plain": [
       "{'a': 1885,\n",
       " 'b': 155,\n",
       " 'c': 78,\n",
       " 'd': 246,\n",
       " 'e': 861,\n",
       " 'f': 55,\n",
       " 'g': 200,\n",
       " 'h': 454,\n",
       " 'i': 1388,\n",
       " 'j': 33,\n",
       " 'k': 821,\n",
       " 'l': 20,\n",
       " 'm': 569,\n",
       " 'n': 811,\n",
       " 'o': 1304,\n",
       " 'p': 12,\n",
       " 'q': 1,\n",
       " 'r': 612,\n",
       " 's': 603,\n",
       " 't': 815,\n",
       " 'u': 1010,\n",
       " 'v': 3,\n",
       " 'w': 282,\n",
       " 'x': 0,\n",
       " 'y': 202,\n",
       " 'z': 110,\n",
       " ' ': 1766}"
      ]
     },
     "execution_count": 4,
     "metadata": {},
     "output_type": "execute_result"
    }
   ],
   "source": [
    "trainSet['j']"
   ]
  },
  {
   "cell_type": "code",
   "execution_count": 5,
   "metadata": {},
   "outputs": [
    {
     "data": {
      "text/plain": [
       "[0.1317656102589189,\n",
       " 0.010866906600510151,\n",
       " 0.005485866033054963,\n",
       " 0.01722631818022992,\n",
       " 0.06020475907613823,\n",
       " 0.003878542227191726,\n",
       " 0.014011670568503443,\n",
       " 0.03176211607673224,\n",
       " 0.09703343932352633,\n",
       " 0.0023411020650616725,\n",
       " 0.05740941332681086,\n",
       " 0.001432614696530277,\n",
       " 0.03979873510604843,\n",
       " 0.05671057688947902,\n",
       " 0.09116321324993885,\n",
       " 0.0008735455466648031,\n",
       " 0.00010482546559977637,\n",
       " 0.04280373178657535,\n",
       " 0.0421747789929767,\n",
       " 0.056990111464411755,\n",
       " 0.07061742199238269,\n",
       " 0.0002445927530661449,\n",
       " 0.01974212935462455,\n",
       " 3.4941821866592126e-05,\n",
       " 0.01415143785596981,\n",
       " 0.00772214263251686,\n",
       " 0.12344945665466997]"
      ]
     },
     "execution_count": 5,
     "metadata": {},
     "output_type": "execute_result"
    }
   ],
   "source": [
    "j_conProb = conditionalprobability(trainSet['j'],27,0.5)\n",
    "j_conProb"
   ]
  },
  {
   "cell_type": "code",
   "execution_count": 6,
   "metadata": {},
   "outputs": [
    {
     "data": {
      "text/plain": [
       "[0.10456045141993771,\n",
       " 0.008232863618143134,\n",
       " 0.03752582405722919,\n",
       " 0.039745922111559924,\n",
       " 0.1138108599796491,\n",
       " 0.00860287996053159,\n",
       " 0.0071844839813758445,\n",
       " 0.0045327001942585795,\n",
       " 0.049859702136844375,\n",
       " 0.006629459467793161,\n",
       " 0.0002775122567913416,\n",
       " 0.052943171656748174,\n",
       " 0.02580863988159477,\n",
       " 0.054176559464709693,\n",
       " 0.07249236841293824,\n",
       " 0.02426690512164287,\n",
       " 0.007677839104560451,\n",
       " 0.05929511886774999,\n",
       " 0.06577040485954797,\n",
       " 0.03561407295488884,\n",
       " 0.03370232185254849,\n",
       " 0.00588942678301625,\n",
       " 9.250408559711388e-05,\n",
       " 0.0024976103111220747,\n",
       " 0.007862847275754679,\n",
       " 0.0026826184823163022,\n",
       " 0.16826493170115014]"
      ]
     },
     "execution_count": 6,
     "metadata": {},
     "output_type": "execute_result"
    }
   ],
   "source": [
    "s_conProb = conditionalprobability(trainSet['s'],27,0.5)\n",
    "s_conProb"
   ]
  },
  {
   "cell_type": "markdown",
   "metadata": {},
   "source": [
    "Q3.4"
   ]
  },
  {
   "cell_type": "code",
   "execution_count": 7,
   "metadata": {},
   "outputs": [
    {
     "data": {
      "text/plain": [
       "[164,\n",
       " 32,\n",
       " 53,\n",
       " 57,\n",
       " 311,\n",
       " 55,\n",
       " 51,\n",
       " 140,\n",
       " 140,\n",
       " 3,\n",
       " 6,\n",
       " 85,\n",
       " 64,\n",
       " 139,\n",
       " 182,\n",
       " 53,\n",
       " 3,\n",
       " 141,\n",
       " 186,\n",
       " 225,\n",
       " 65,\n",
       " 31,\n",
       " 47,\n",
       " 4,\n",
       " 38,\n",
       " 2,\n",
       " 498]"
      ]
     },
     "execution_count": 7,
     "metadata": {},
     "output_type": "execute_result"
    }
   ],
   "source": [
    "e_10 = {chr(97 + i): 0 for i in range(26)}\n",
    "e_10[' '] =0\n",
    "for file in glob.glob(f\"./languageID/e10.txt\"):\n",
    "    text = read_file(file)\n",
    "    for char in text:\n",
    "        if char == '\\n':\n",
    "            continue\n",
    "        else:\n",
    "            e_10[char] += 1\n",
    "    e_10 = dict(sorted(e_10.items(), key=lambda item: (item[0] == ' ', item[0])))\n",
    "e_10_vector = []\n",
    "for value in e_10.values():\n",
    "    e_10_vector.append(value)\n",
    "e_10_vector"
   ]
  },
  {
   "cell_type": "markdown",
   "metadata": {},
   "source": [
    "Q3.5"
   ]
  },
  {
   "cell_type": "code",
   "execution_count": 8,
   "metadata": {},
   "outputs": [
    {
     "name": "stdout",
     "output_type": "stream",
     "text": [
      "log probability given y=e: -7841.865447060635\n",
      "log probability given y=j: -8771.433079075032\n",
      "log probability given y=s: -8467.282044010557\n"
     ]
    }
   ],
   "source": [
    "Prxe_log_prob = 0\n",
    "for i, prob in enumerate(e_conProb):\n",
    "    Prxe_log_prob += e_10_vector[i]*np.log(prob)\n",
    "print('log probability given y=e: ' + str(Prxe_log_prob))\n",
    "Prxj_log_prob = 0\n",
    "for i, prob in enumerate(j_conProb):\n",
    "    Prxj_log_prob += e_10_vector[i]*np.log(prob)\n",
    "print('log probability given y=j: ' + str(Prxj_log_prob))\n",
    "Prxs_log_prob = 0\n",
    "for i, prob in enumerate(s_conProb):\n",
    "    Prxs_log_prob += e_10_vector[i]*np.log(prob)\n",
    "print('log probability given y=s: ' + str(Prxs_log_prob))"
   ]
  },
  {
   "cell_type": "markdown",
   "metadata": {},
   "source": []
  },
  {
   "cell_type": "markdown",
   "metadata": {},
   "source": [
    "Q3.6 See the pdf"
   ]
  },
  {
   "cell_type": "markdown",
   "metadata": {},
   "source": [
    "Q3.7"
   ]
  },
  {
   "cell_type": "code",
   "execution_count": 9,
   "metadata": {},
   "outputs": [],
   "source": [
    "def predict(language,number):\n",
    "    dict27 = {chr(97 + i): 0 for i in range(26)}\n",
    "    dict27[' '] =0\n",
    "    for file in glob.glob(f\"./languageID/{language}{number}.txt\"):\n",
    "        text = read_file(file)\n",
    "        for char in text:\n",
    "            if char == '\\n':\n",
    "                continue\n",
    "            else:\n",
    "                dict27[char] += 1\n",
    "        dict27 = dict(sorted(dict27.items(), key=lambda item: (item[0] == ' ', item[0])))\n",
    "    vector = []\n",
    "    for value in dict27.values():\n",
    "        vector.append(value)\n",
    "\n",
    "    log_probs = []    \n",
    "    Prxe_log_prob = 0\n",
    "    for i, prob in enumerate(e_conProb):\n",
    "        Prxe_log_prob += vector[i]*np.log(prob)\n",
    "    log_probs.append(Prxe_log_prob)\n",
    "    Prxj_log_prob = 0\n",
    "    for i, prob in enumerate(j_conProb):\n",
    "        Prxj_log_prob += vector[i]*np.log(prob)\n",
    "    log_probs.append(Prxj_log_prob)\n",
    "    Prxs_log_prob = 0\n",
    "    for i, prob in enumerate(s_conProb):\n",
    "        Prxs_log_prob += vector[i]*np.log(prob)\n",
    "    log_probs.append(Prxs_log_prob)\n",
    "\n",
    "    predict = np.argmax(log_probs)\n",
    "    return predict"
   ]
  },
  {
   "cell_type": "code",
   "execution_count": 10,
   "metadata": {},
   "outputs": [
    {
     "data": {
      "text/plain": [
       "array([[10.,  0.,  0.],\n",
       "       [ 0., 10.,  0.],\n",
       "       [ 0.,  0., 10.]])"
      ]
     },
     "execution_count": 10,
     "metadata": {},
     "output_type": "execute_result"
    }
   ],
   "source": [
    "matrix = np.zeros((3, 3))\n",
    "for index,language in enumerate(languages):\n",
    "    for i in range(10,20):\n",
    "        yhat = predict(language,i)\n",
    "        matrix[yhat][index] +=1\n",
    "matrix"
   ]
  },
  {
   "cell_type": "markdown",
   "metadata": {},
   "source": [
    "Q3.8"
   ]
  },
  {
   "cell_type": "code",
   "execution_count": 11,
   "metadata": {},
   "outputs": [
    {
     "name": "stdout",
     "output_type": "stream",
     "text": [
      "True\n"
     ]
    }
   ],
   "source": [
    "#shuffle, take e14 as an example\n",
    "with open('./languageID/e14.txt', 'r') as file:\n",
    "    text = file.read()\n",
    "char_list = list(text)\n",
    "random.shuffle(char_list)\n",
    "shuffled_text = ''.join(char_list)\n",
    "with open('./languageID/eShuffle14.txt', 'w') as file:\n",
    "    file.write(shuffled_text)\n",
    "\n",
    "# compare if the prediction for e14 same as the prediction for e14_shuffle\n",
    "print(predict(\"e\",14) == predict(\"eShuffle\",14))\n",
    "\n",
    "#delete the shuffled file to make the dataset clean\n",
    "os.remove('./languageID/eShuffle14.txt')"
   ]
  },
  {
   "cell_type": "markdown",
   "metadata": {},
   "source": [
    "Q4.2"
   ]
  },
  {
   "cell_type": "code",
   "execution_count": 12,
   "metadata": {},
   "outputs": [],
   "source": [
    "import torch\n",
    "from torchvision import datasets, transforms\n",
    "\n",
    "# define the hyperparameters\n",
    "batch_size = 32\n",
    "input_size = 784 # 28*28 pixels\n",
    "hidden_layer_size = 300\n",
    "output_size = 10 \n",
    "lr = 0.01\n",
    "epochs = 30\n",
    "\n",
    "# load data\n",
    "transform = transforms.Compose([transforms.ToTensor(),\n",
    "                              transforms.Normalize((0.5,), (0.5,)),\n",
    "                              ])\n",
    "trainSet = datasets.MNIST('./', download=True, train=True, transform=transform)\n",
    "testSet = datasets.MNIST('./', download=True, train=False, transform=transform)\n",
    "trainLoader = torch.utils.data.DataLoader(trainSet, batch_size=batch_size, shuffle=True)\n",
    "testLoader = torch.utils.data.DataLoader(testSet, batch_size=batch_size, shuffle=True)\n",
    "\n",
    "# def functions\n",
    "def sigmoid(x):\n",
    "    return 1/(1 + np.exp(-x))\n",
    "\n",
    "def softmax(x):\n",
    "    exps = np.exp(x)\n",
    "    denom = np.sum(exps, axis=1)\n",
    "    denom.resize(exps.shape[0], 1)\n",
    "    return exps / denom\n",
    "\n",
    "# def cross_entropy_loss(y, y_hat):\n",
    "#     return -np.sum(y * np.log(y_hat))\n",
    "\n",
    "\n",
    "\n",
    "def forward(inputs,w1,w2):\n",
    "    inputs = inputs.numpy()\n",
    "    linear_1 = inputs.dot(w1)\n",
    "    out1 = sigmoid(linear_1)\n",
    "    linear2 = out1.dot(w2)\n",
    "    out2 = softmax(linear2)\n",
    "    return out1, out2, linear_1\n",
    "\n",
    "def backProp(x_train, y_train, out2, out1,linear_1, w2):\n",
    "        x_train = x_train.numpy()\n",
    "        y_train = y_train.numpy()\n",
    "        batch_size = y_train.shape[0]\n",
    "\n",
    "        d_loss = out2 - y_train\n",
    "\n",
    "        # Calculating delta for W2\n",
    "        change_w2 = (1./batch_size) * np.matmul(out1.T, d_loss)\n",
    "\n",
    "        d_out_1 = np.matmul(d_loss, w2.T)\n",
    "        d_linear_1 = d_out_1 * sigmoid(linear_1) * (1 - sigmoid(linear_1))\n",
    "\n",
    "        # Calculating delta for W1\n",
    "        change_w1 = (1. / batch_size) * np.matmul(x_train.T, d_linear_1)\n",
    "        return change_w1, change_w2\n",
    "\n",
    "def update(w1,w2, change_w1, change_w2):\n",
    "    w1 -= lr * change_w1\n",
    "    w2 -= lr * change_w2\n",
    "\n",
    "def accuracy(testLoader,w1,w2):\n",
    "    correct =0\n",
    "    total = 0\n",
    "    for i, data in enumerate(testLoader):\n",
    "        x, y = data\n",
    "        y_onehot = torch.zeros(y.shape[0], 10)\n",
    "        y_onehot[range(y_onehot.shape[0]), y] = 1\n",
    "        \n",
    "        flattened_input = x.view(-1, 28*28)\n",
    "        out1, out2, linear_1 = forward(flattened_input,w1,w2)\n",
    "        predicted = np.argmax(out2, axis=1)\n",
    "        # Calculating correctly predicted labels\n",
    "        correct += np.sum((predicted==y.numpy()))\n",
    "        total += y.shape[0]\n",
    "    return correct/total\n",
    "\n",
    "#train the model\n",
    "w1 = np.random.uniform(low=-1, high=1, size=(input_size, hidden_layer_size))\n",
    "w2 = np.random.uniform(low=-1, high=1, size=(hidden_layer_size, output_size))\n",
    "\n",
    "test_accuracy = []\n",
    "for iteration in range(epochs):\n",
    "    for i, data in enumerate(trainLoader):\n",
    "        x, y = data\n",
    "        y_onehot = torch.zeros(y.shape[0], 10)\n",
    "        y_onehot[range(y_onehot.shape[0]), y]=1\n",
    "        flattened_input = x.view(-1, 28*28)\n",
    "        out1, out2, linear_1 = forward(flattened_input,w1,w2)\n",
    "        w1_update, w2_update = backProp(flattened_input, y_onehot, out2, out1,linear_1,w2)\n",
    "        update(w1,w2,w1_update,w2_update)\n",
    "    test_accuracy.append(accuracy(testLoader,w1,w2))"
   ]
  },
  {
   "cell_type": "code",
   "execution_count": 13,
   "metadata": {},
   "outputs": [
    {
     "name": "stdout",
     "output_type": "stream",
     "text": [
      "[0.7516, 0.8111, 0.8371, 0.8547, 0.8665, 0.8716, 0.8791, 0.8839, 0.8869, 0.889, 0.8938, 0.8974, 0.899, 0.902, 0.9025, 0.906, 0.9073, 0.9092, 0.9105, 0.9119, 0.9141, 0.9144, 0.9173, 0.9174, 0.9171, 0.9186, 0.919, 0.9212, 0.9202, 0.9214]\n"
     ]
    },
    {
     "data": {
      "image/png": "[encoded data removed]",
      "text/plain": [
       "<Figure size 640x480 with 1 Axes>"
      ]
     },
     "metadata": {},
     "output_type": "display_data"
    }
   ],
   "source": [
    "import matplotlib.pyplot as plt\n",
    "print(test_accuracy)\n",
    "plt.plot(range(epochs), test_accuracy,label='test accuracy' )\n",
    "plt.legend()\n",
    "plt.title('Learning curve(test accuracy vs epochs)')\n",
    "plt.xlabel('epoch')\n",
    "plt.ylabel('test accuracy')\n",
    "plt.show()"
   ]
  },
  {
   "cell_type": "markdown",
   "metadata": {},
   "source": [
    "Q4.3"
   ]
  },
  {
   "cell_type": "code",
   "execution_count": 14,
   "metadata": {},
   "outputs": [],
   "source": [
    "from torch import nn\n",
    "model = nn.Sequential(nn.Linear(input_size, hidden_layer_size, bias=False),\n",
    "                      nn.Sigmoid(),\n",
    "                      nn.Linear(hidden_layer_size, output_size, bias=False),\n",
    "                      nn.LogSoftmax(dim=1))\n",
    "optimizer = torch.optim.SGD(model.parameters(), lr=0.01, momentum=0.0)\n",
    "criterion = nn.NLLLoss() # to the LogSoftmax layer, if use cross entropy then no need logsoftmax\n",
    "\n",
    "accuracy_nn = []\n",
    "# train \n",
    "for i in range(epochs):\n",
    "    for images, labels in trainLoader:\n",
    "        images = images.view(images.shape[0], -1)\n",
    "        # clear the last step gradient\n",
    "        optimizer.zero_grad()\n",
    "        output = model(images)\n",
    "        loss = criterion(output, labels)\n",
    "        loss.backward()\n",
    "        optimizer.step()\n",
    "\n",
    "    # test\n",
    "    correct, total = 0, 0\n",
    "    for images,labels in testLoader:\n",
    "        for i in range(len(labels)):\n",
    "            img = images[i].view(1, 28*28)\n",
    "            # Turn off gradients for forward pass\n",
    "            with torch.no_grad():\n",
    "                logps = model(img)\n",
    "            ps = torch.exp(logps)\n",
    "            probab = list(ps.numpy()[0])\n",
    "            pred_label = probab.index(max(probab))\n",
    "            true_label = labels.numpy()[i]\n",
    "            if(true_label == pred_label):\n",
    "                correct += 1\n",
    "            total += 1\n",
    "    accuracy_nn.append(correct/total)\n"
   ]
  },
  {
   "cell_type": "code",
   "execution_count": 15,
   "metadata": {},
   "outputs": [
    {
     "name": "stdout",
     "output_type": "stream",
     "text": [
      "[0.8591, 0.8876, 0.8986, 0.9063, 0.9098, 0.9133, 0.9184, 0.9185, 0.9203, 0.9231, 0.9232, 0.9257, 0.9283, 0.928, 0.9309, 0.9333, 0.9334, 0.9343, 0.9378, 0.9377, 0.9395, 0.9424, 0.9427, 0.9446, 0.9454, 0.946, 0.9471, 0.9468, 0.9493, 0.9498]\n"
     ]
    },
    {
     "data": {
      "image/png": "[encoded data removed]",
      "text/plain": [
       "<Figure size 640x480 with 1 Axes>"
      ]
     },
     "metadata": {},
     "output_type": "display_data"
    }
   ],
   "source": [
    "print(accuracy_nn)\n",
    "plt.plot(range(epochs), accuracy_nn,label='test accuracy' )\n",
    "plt.legend()\n",
    "plt.title('Learning curve(test accuracy vs epochs)')\n",
    "plt.xlabel('epoch')\n",
    "plt.ylabel('test accuracy')\n",
    "plt.show()"
   ]
  },
  {
   "cell_type": "markdown",
   "metadata": {},
   "source": [
    "Q4.4"
   ]
  },
  {
   "cell_type": "markdown",
   "metadata": {},
   "source": [
    "a) all weights initialized to 0"
   ]
  },
  {
   "cell_type": "code",
   "execution_count": 16,
   "metadata": {},
   "outputs": [
    {
     "name": "stdout",
     "output_type": "stream",
     "text": [
      "[0.1135, 0.098, 0.1032, 0.1135, 0.1135, 0.1135, 0.1135, 0.1135, 0.1135, 0.1135, 0.1135, 0.1135, 0.1135, 0.1135, 0.1135, 0.1135, 0.1135, 0.1135, 0.1135, 0.1135, 0.1135, 0.1135, 0.1135, 0.1135, 0.1135, 0.1135, 0.1135, 0.1135, 0.1135, 0.1135]\n"
     ]
    },
    {
     "data": {
      "image/png": "[encoded data removed]",
      "text/plain": [
       "<Figure size 640x480 with 1 Axes>"
      ]
     },
     "metadata": {},
     "output_type": "display_data"
    }
   ],
   "source": [
    "model = nn.Sequential(nn.Linear(input_size, hidden_layer_size, bias=False),\n",
    "                      nn.Sigmoid(),\n",
    "                      nn.Linear(hidden_layer_size, output_size, bias=False),\n",
    "                      nn.LogSoftmax(dim=1))\n",
    "\n",
    "# all weights initialized to 0\n",
    "model[0].weight.data.fill_(0.0)\n",
    "model[2].weight.data.fill_(0.0)\n",
    "\n",
    "optimizer = torch.optim.SGD(model.parameters(), lr=0.01, momentum=0.0)\n",
    "criterion = nn.NLLLoss() # to the LogSoftmax layer, if use cross entropy then no need logsoftmax\n",
    "\n",
    "\n",
    "accuracy_nn = []\n",
    "# train \n",
    "for i in range(epochs):\n",
    "    for images, labels in trainLoader:\n",
    "        images = images.view(images.shape[0], -1)\n",
    "        # clear the last step gradient\n",
    "        optimizer.zero_grad()\n",
    "        output = model(images)\n",
    "        loss = criterion(output, labels)\n",
    "        loss.backward()\n",
    "        optimizer.step()\n",
    "\n",
    "    # test\n",
    "    correct, total = 0, 0\n",
    "    for images,labels in testLoader:\n",
    "        for i in range(len(labels)):\n",
    "            img = images[i].view(1, 28*28)\n",
    "            # Turn off gradients for forward pass\n",
    "            with torch.no_grad():\n",
    "                logps = model(img)\n",
    "            ps = torch.exp(logps)\n",
    "            probab = list(ps.numpy()[0])\n",
    "            pred_label = probab.index(max(probab))\n",
    "            true_label = labels.numpy()[i]\n",
    "            if(true_label == pred_label):\n",
    "                correct += 1\n",
    "            total += 1\n",
    "    accuracy_nn.append(correct/total)\n",
    "\n",
    "print(accuracy_nn)\n",
    "plt.plot(range(epochs), accuracy_nn,label='test accuracy' )\n",
    "plt.legend()\n",
    "plt.title('Learning curve(Initialize weights to zero)')\n",
    "plt.xlabel('epoch')\n",
    "plt.ylabel('test accuracy')\n",
    "plt.show()"
   ]
  },
  {
   "cell_type": "markdown",
   "metadata": {},
   "source": [
    "b) initialize the weights randomly between -1 and 1"
   ]
  },
  {
   "cell_type": "markdown",
   "metadata": {},
   "source": []
  },
  {
   "cell_type": "code",
   "execution_count": 17,
   "metadata": {},
   "outputs": [
    {
     "name": "stdout",
     "output_type": "stream",
     "text": [
      "[0.7399, 0.8026, 0.8309, 0.8477, 0.8613, 0.8698, 0.8773, 0.8824, 0.8869, 0.89, 0.8925, 0.8968, 0.9004, 0.9032, 0.9032, 0.9062, 0.9091, 0.9111, 0.9122, 0.9128, 0.9153, 0.9157, 0.9166, 0.9174, 0.9184, 0.9188, 0.921, 0.9232, 0.9234, 0.9241]\n"
     ]
    },
    {
     "data": {
      "image/png": "[encoded data removed]",
      "text/plain": [
       "<Figure size 640x480 with 1 Axes>"
      ]
     },
     "metadata": {},
     "output_type": "display_data"
    }
   ],
   "source": [
    "model = nn.Sequential(nn.Linear(input_size, hidden_layer_size, bias=False),\n",
    "                      nn.Sigmoid(),\n",
    "                      nn.Linear(hidden_layer_size, output_size, bias=False),\n",
    "                      nn.LogSoftmax(dim=1))\n",
    "\n",
    "#Initialize weights randomly between -1 and 1\n",
    "for layer in model:\n",
    "    if isinstance(layer, nn.Linear):\n",
    "        nn.init.uniform_(layer.weight, -1, 1)\n",
    "\n",
    "optimizer = torch.optim.SGD(model.parameters(), lr=0.01, momentum=0.0)\n",
    "criterion = nn.NLLLoss() # to the LogSoftmax layer, if use cross entropy then no need logsoftmax\n",
    "\n",
    "\n",
    "accuracy_nn = []\n",
    "# train \n",
    "for i in range(epochs):\n",
    "    for images, labels in trainLoader:\n",
    "        images = images.view(images.shape[0], -1)\n",
    "        # clear the last step gradient\n",
    "        optimizer.zero_grad()\n",
    "        output = model(images)\n",
    "        loss = criterion(output, labels)\n",
    "        loss.backward()\n",
    "        optimizer.step()\n",
    "\n",
    "    # test\n",
    "    correct, total = 0, 0\n",
    "    for images,labels in testLoader:\n",
    "        for i in range(len(labels)):\n",
    "            img = images[i].view(1, 28*28)\n",
    "            # Turn off gradients for forward pass\n",
    "            with torch.no_grad():\n",
    "                logps = model(img)\n",
    "            ps = torch.exp(logps)\n",
    "            probab = list(ps.numpy()[0])\n",
    "            pred_label = probab.index(max(probab))\n",
    "            true_label = labels.numpy()[i]\n",
    "            if(true_label == pred_label):\n",
    "                correct += 1\n",
    "            total += 1\n",
    "    accuracy_nn.append(correct/total)\n",
    "\n",
    "print(accuracy_nn)\n",
    "plt.plot(range(epochs), accuracy_nn,label='test accuracy' )\n",
    "plt.legend()\n",
    "plt.title('Learning curve(Initialize weights randomly between -1 and 1)')\n",
    "plt.xlabel('epoch')\n",
    "plt.ylabel('test accuracy')\n",
    "plt.show()"
   ]
  },
  {
   "cell_type": "code",
   "execution_count": null,
   "metadata": {},
   "outputs": [],
   "source": []
  }
 ],
 "metadata": {
  "kernelspec": {
   "display_name": "base",
   "language": "python",
   "name": "python3"
  },
  "language_info": {
   "codemirror_mode": {
    "name": "ipython",
    "version": 3
   },
   "file_extension": ".py",
   "mimetype": "text/x-python",
   "name": "python",
   "nbconvert_exporter": "python",
   "pygments_lexer": "ipython3",
   "version": "3.9.13"
  }
 },
 "nbformat": 4,
 "nbformat_minor": 2
}
